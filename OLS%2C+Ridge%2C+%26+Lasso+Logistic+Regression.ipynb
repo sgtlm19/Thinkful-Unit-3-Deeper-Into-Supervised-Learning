{
 "cells": [
  {
   "cell_type": "markdown",
   "metadata": {},
   "source": [
    "# OLS, Ridge, and Lasso Logistic Regression #"
   ]
  },
  {
   "cell_type": "markdown",
   "metadata": {},
   "source": [
    "## by Lorenz Madarang ##"
   ]
  },
  {
   "cell_type": "markdown",
   "metadata": {},
   "source": [
    "## Data: https://archive.ics.uci.edu/ml/datasets/Absenteeism+at+work ##"
   ]
  },
  {
   "cell_type": "code",
   "execution_count": 1,
   "metadata": {},
   "outputs": [
    {
     "name": "stderr",
     "output_type": "stream",
     "text": [
      "/Users/lorenzmadarang/anaconda3/lib/python3.6/site-packages/statsmodels/compat/pandas.py:56: FutureWarning: The pandas.core.datetools module is deprecated and will be removed in a future version. Please use the pandas.tseries module instead.\n",
      "  from pandas.core import datetools\n"
     ]
    }
   ],
   "source": [
    "%matplotlib inline\n",
    "import numpy as np\n",
    "import pandas as pd\n",
    "import scipy\n",
    "import sklearn\n",
    "import matplotlib.pyplot as plt\n",
    "import seaborn as sns\n",
    "import re\n",
    "from string import punctuation\n",
    "from collections import Counter\n",
    "import operator\n",
    "from sklearn import linear_model\n",
    "import statsmodels.formula.api as smf\n",
    "import statsmodels.api as sm\n",
    "from sklearn.linear_model import LogisticRegression\n",
    "from sklearn.model_selection import cross_val_score"
   ]
  },
  {
   "cell_type": "markdown",
   "metadata": {},
   "source": [
    "### Data Ingestion and Data Cleaning ##\n",
    "I ingested the data from an Excel flat file and then I renamed the columns so that they would be easier to conduct python functions and python methods.  The assignment asks that we create a binary outcome so I converted the initial target \"Absenteeism time in hours\" which is a continuous variable into a binary type.  I did this by classifying the amount of absenteeism into \"Greater Than a Workday\" (8 hours) and \"Less Than a Workday\" (< 8 hours).  I also removed columns of data that would not help in the model such as the \"ID\" column.  Also, I removed the \"Absenteeism time in hours\" column as an input into the models as the Category dataframe which is the target was derived exactly from the \"Absenteeism  time in hours\" column.  "
   ]
  },
  {
   "cell_type": "code",
   "execution_count": 2,
   "metadata": {
    "collapsed": true
   },
   "outputs": [],
   "source": [
    "absentee = pd.read_excel('Absenteeism_at_work.xls')"
   ]
  },
  {
   "cell_type": "code",
   "execution_count": 3,
   "metadata": {},
   "outputs": [
    {
     "data": {
      "text/html": [
       "<div>\n",
       "<style>\n",
       "    .dataframe thead tr:only-child th {\n",
       "        text-align: right;\n",
       "    }\n",
       "\n",
       "    .dataframe thead th {\n",
       "        text-align: left;\n",
       "    }\n",
       "\n",
       "    .dataframe tbody tr th {\n",
       "        vertical-align: top;\n",
       "    }\n",
       "</style>\n",
       "<table border=\"1\" class=\"dataframe\">\n",
       "  <thead>\n",
       "    <tr style=\"text-align: right;\">\n",
       "      <th></th>\n",
       "      <th>ID</th>\n",
       "      <th>Reason for absence</th>\n",
       "      <th>Month of absence</th>\n",
       "      <th>Day of the week</th>\n",
       "      <th>Seasons</th>\n",
       "      <th>Transportation expense</th>\n",
       "      <th>Distance from Residence to Work</th>\n",
       "      <th>Service time</th>\n",
       "      <th>Age</th>\n",
       "      <th>Work load Average/day</th>\n",
       "      <th>...</th>\n",
       "      <th>Disciplinary failure</th>\n",
       "      <th>Education</th>\n",
       "      <th>Son</th>\n",
       "      <th>Social drinker</th>\n",
       "      <th>Social smoker</th>\n",
       "      <th>Pet</th>\n",
       "      <th>Weight</th>\n",
       "      <th>Height</th>\n",
       "      <th>Body mass index</th>\n",
       "      <th>Absenteeism time in hours</th>\n",
       "    </tr>\n",
       "  </thead>\n",
       "  <tbody>\n",
       "    <tr>\n",
       "      <th>0</th>\n",
       "      <td>11</td>\n",
       "      <td>26</td>\n",
       "      <td>7</td>\n",
       "      <td>3</td>\n",
       "      <td>1</td>\n",
       "      <td>289</td>\n",
       "      <td>36</td>\n",
       "      <td>13</td>\n",
       "      <td>33</td>\n",
       "      <td>239554</td>\n",
       "      <td>...</td>\n",
       "      <td>0</td>\n",
       "      <td>1</td>\n",
       "      <td>2</td>\n",
       "      <td>1</td>\n",
       "      <td>0</td>\n",
       "      <td>1</td>\n",
       "      <td>90</td>\n",
       "      <td>172</td>\n",
       "      <td>30</td>\n",
       "      <td>4</td>\n",
       "    </tr>\n",
       "    <tr>\n",
       "      <th>1</th>\n",
       "      <td>36</td>\n",
       "      <td>0</td>\n",
       "      <td>7</td>\n",
       "      <td>3</td>\n",
       "      <td>1</td>\n",
       "      <td>118</td>\n",
       "      <td>13</td>\n",
       "      <td>18</td>\n",
       "      <td>50</td>\n",
       "      <td>239554</td>\n",
       "      <td>...</td>\n",
       "      <td>1</td>\n",
       "      <td>1</td>\n",
       "      <td>1</td>\n",
       "      <td>1</td>\n",
       "      <td>0</td>\n",
       "      <td>0</td>\n",
       "      <td>98</td>\n",
       "      <td>178</td>\n",
       "      <td>31</td>\n",
       "      <td>0</td>\n",
       "    </tr>\n",
       "    <tr>\n",
       "      <th>2</th>\n",
       "      <td>3</td>\n",
       "      <td>23</td>\n",
       "      <td>7</td>\n",
       "      <td>4</td>\n",
       "      <td>1</td>\n",
       "      <td>179</td>\n",
       "      <td>51</td>\n",
       "      <td>18</td>\n",
       "      <td>38</td>\n",
       "      <td>239554</td>\n",
       "      <td>...</td>\n",
       "      <td>0</td>\n",
       "      <td>1</td>\n",
       "      <td>0</td>\n",
       "      <td>1</td>\n",
       "      <td>0</td>\n",
       "      <td>0</td>\n",
       "      <td>89</td>\n",
       "      <td>170</td>\n",
       "      <td>31</td>\n",
       "      <td>2</td>\n",
       "    </tr>\n",
       "    <tr>\n",
       "      <th>3</th>\n",
       "      <td>7</td>\n",
       "      <td>7</td>\n",
       "      <td>7</td>\n",
       "      <td>5</td>\n",
       "      <td>1</td>\n",
       "      <td>279</td>\n",
       "      <td>5</td>\n",
       "      <td>14</td>\n",
       "      <td>39</td>\n",
       "      <td>239554</td>\n",
       "      <td>...</td>\n",
       "      <td>0</td>\n",
       "      <td>1</td>\n",
       "      <td>2</td>\n",
       "      <td>1</td>\n",
       "      <td>1</td>\n",
       "      <td>0</td>\n",
       "      <td>68</td>\n",
       "      <td>168</td>\n",
       "      <td>24</td>\n",
       "      <td>4</td>\n",
       "    </tr>\n",
       "    <tr>\n",
       "      <th>4</th>\n",
       "      <td>11</td>\n",
       "      <td>23</td>\n",
       "      <td>7</td>\n",
       "      <td>5</td>\n",
       "      <td>1</td>\n",
       "      <td>289</td>\n",
       "      <td>36</td>\n",
       "      <td>13</td>\n",
       "      <td>33</td>\n",
       "      <td>239554</td>\n",
       "      <td>...</td>\n",
       "      <td>0</td>\n",
       "      <td>1</td>\n",
       "      <td>2</td>\n",
       "      <td>1</td>\n",
       "      <td>0</td>\n",
       "      <td>1</td>\n",
       "      <td>90</td>\n",
       "      <td>172</td>\n",
       "      <td>30</td>\n",
       "      <td>2</td>\n",
       "    </tr>\n",
       "  </tbody>\n",
       "</table>\n",
       "<p>5 rows × 21 columns</p>\n",
       "</div>"
      ],
      "text/plain": [
       "   ID  Reason for absence  Month of absence  Day of the week  Seasons  \\\n",
       "0  11                  26                 7                3        1   \n",
       "1  36                   0                 7                3        1   \n",
       "2   3                  23                 7                4        1   \n",
       "3   7                   7                 7                5        1   \n",
       "4  11                  23                 7                5        1   \n",
       "\n",
       "   Transportation expense  Distance from Residence to Work  Service time  Age  \\\n",
       "0                     289                               36            13   33   \n",
       "1                     118                               13            18   50   \n",
       "2                     179                               51            18   38   \n",
       "3                     279                                5            14   39   \n",
       "4                     289                               36            13   33   \n",
       "\n",
       "   Work load Average/day             ...              Disciplinary failure  \\\n",
       "0                  239554            ...                                 0   \n",
       "1                  239554            ...                                 1   \n",
       "2                  239554            ...                                 0   \n",
       "3                  239554            ...                                 0   \n",
       "4                  239554            ...                                 0   \n",
       "\n",
       "   Education  Son  Social drinker  Social smoker  Pet  Weight  Height  \\\n",
       "0          1    2               1              0    1      90     172   \n",
       "1          1    1               1              0    0      98     178   \n",
       "2          1    0               1              0    0      89     170   \n",
       "3          1    2               1              1    0      68     168   \n",
       "4          1    2               1              0    1      90     172   \n",
       "\n",
       "   Body mass index  Absenteeism time in hours  \n",
       "0               30                          4  \n",
       "1               31                          0  \n",
       "2               31                          2  \n",
       "3               24                          4  \n",
       "4               30                          2  \n",
       "\n",
       "[5 rows x 21 columns]"
      ]
     },
     "execution_count": 3,
     "metadata": {},
     "output_type": "execute_result"
    }
   ],
   "source": [
    "absentee.head()"
   ]
  },
  {
   "cell_type": "code",
   "execution_count": 4,
   "metadata": {
    "collapsed": true
   },
   "outputs": [],
   "source": [
    "absentee = absentee.rename(index=str, columns = {'ID': 'id',\n",
    "                                                'Reason for absence' : 'reason_absence',\n",
    "                                                'Month of absence' : 'month_absence',\n",
    "                                                'Day of the week' : 'day',\n",
    "                                                'Seasons' : 'season',\n",
    "                                                'Transportation expense' : 'transport_expense',\n",
    "                                                'Distance from Residence to Work' : 'distance_to_work',\n",
    "                                                'Service time' : 'service_time',\n",
    "                                                'Age' : 'age',\n",
    "                                                'Work load Average/day ' : 'workload_average_day',\n",
    "                                                'Hit target' : 'hit_target',\n",
    "                                                'Disciplinary failure' : 'discipline_failure',\n",
    "                                                'Education' : 'education',\n",
    "                                                'Son' : 'num_children',\n",
    "                                                'Social drinker' : 'social_drinker',\n",
    "                                                'Social smoker' : 'social_smoker',\n",
    "                                                'Pet' : 'pet',\n",
    "                                                'Weight' : 'weight',\n",
    "                                                'Height' : 'height',\n",
    "                                                'Body mass index' : 'bmi',\n",
    "                                                'Absenteeism time in hours' : 'absentee_hours'})"
   ]
  },
  {
   "cell_type": "code",
   "execution_count": 5,
   "metadata": {},
   "outputs": [
    {
     "data": {
      "text/html": [
       "<div>\n",
       "<style>\n",
       "    .dataframe thead tr:only-child th {\n",
       "        text-align: right;\n",
       "    }\n",
       "\n",
       "    .dataframe thead th {\n",
       "        text-align: left;\n",
       "    }\n",
       "\n",
       "    .dataframe tbody tr th {\n",
       "        vertical-align: top;\n",
       "    }\n",
       "</style>\n",
       "<table border=\"1\" class=\"dataframe\">\n",
       "  <thead>\n",
       "    <tr style=\"text-align: right;\">\n",
       "      <th></th>\n",
       "      <th>id</th>\n",
       "      <th>reason_absence</th>\n",
       "      <th>month_absence</th>\n",
       "      <th>day</th>\n",
       "      <th>season</th>\n",
       "      <th>transport_expense</th>\n",
       "      <th>distance_to_work</th>\n",
       "      <th>service_time</th>\n",
       "      <th>age</th>\n",
       "      <th>workload_average_day</th>\n",
       "      <th>...</th>\n",
       "      <th>discipline_failure</th>\n",
       "      <th>education</th>\n",
       "      <th>num_children</th>\n",
       "      <th>social_drinker</th>\n",
       "      <th>social_smoker</th>\n",
       "      <th>pet</th>\n",
       "      <th>weight</th>\n",
       "      <th>height</th>\n",
       "      <th>bmi</th>\n",
       "      <th>absentee_hours</th>\n",
       "    </tr>\n",
       "  </thead>\n",
       "  <tbody>\n",
       "    <tr>\n",
       "      <th>0</th>\n",
       "      <td>11</td>\n",
       "      <td>26</td>\n",
       "      <td>7</td>\n",
       "      <td>3</td>\n",
       "      <td>1</td>\n",
       "      <td>289</td>\n",
       "      <td>36</td>\n",
       "      <td>13</td>\n",
       "      <td>33</td>\n",
       "      <td>239554</td>\n",
       "      <td>...</td>\n",
       "      <td>0</td>\n",
       "      <td>1</td>\n",
       "      <td>2</td>\n",
       "      <td>1</td>\n",
       "      <td>0</td>\n",
       "      <td>1</td>\n",
       "      <td>90</td>\n",
       "      <td>172</td>\n",
       "      <td>30</td>\n",
       "      <td>4</td>\n",
       "    </tr>\n",
       "    <tr>\n",
       "      <th>1</th>\n",
       "      <td>36</td>\n",
       "      <td>0</td>\n",
       "      <td>7</td>\n",
       "      <td>3</td>\n",
       "      <td>1</td>\n",
       "      <td>118</td>\n",
       "      <td>13</td>\n",
       "      <td>18</td>\n",
       "      <td>50</td>\n",
       "      <td>239554</td>\n",
       "      <td>...</td>\n",
       "      <td>1</td>\n",
       "      <td>1</td>\n",
       "      <td>1</td>\n",
       "      <td>1</td>\n",
       "      <td>0</td>\n",
       "      <td>0</td>\n",
       "      <td>98</td>\n",
       "      <td>178</td>\n",
       "      <td>31</td>\n",
       "      <td>0</td>\n",
       "    </tr>\n",
       "    <tr>\n",
       "      <th>2</th>\n",
       "      <td>3</td>\n",
       "      <td>23</td>\n",
       "      <td>7</td>\n",
       "      <td>4</td>\n",
       "      <td>1</td>\n",
       "      <td>179</td>\n",
       "      <td>51</td>\n",
       "      <td>18</td>\n",
       "      <td>38</td>\n",
       "      <td>239554</td>\n",
       "      <td>...</td>\n",
       "      <td>0</td>\n",
       "      <td>1</td>\n",
       "      <td>0</td>\n",
       "      <td>1</td>\n",
       "      <td>0</td>\n",
       "      <td>0</td>\n",
       "      <td>89</td>\n",
       "      <td>170</td>\n",
       "      <td>31</td>\n",
       "      <td>2</td>\n",
       "    </tr>\n",
       "    <tr>\n",
       "      <th>3</th>\n",
       "      <td>7</td>\n",
       "      <td>7</td>\n",
       "      <td>7</td>\n",
       "      <td>5</td>\n",
       "      <td>1</td>\n",
       "      <td>279</td>\n",
       "      <td>5</td>\n",
       "      <td>14</td>\n",
       "      <td>39</td>\n",
       "      <td>239554</td>\n",
       "      <td>...</td>\n",
       "      <td>0</td>\n",
       "      <td>1</td>\n",
       "      <td>2</td>\n",
       "      <td>1</td>\n",
       "      <td>1</td>\n",
       "      <td>0</td>\n",
       "      <td>68</td>\n",
       "      <td>168</td>\n",
       "      <td>24</td>\n",
       "      <td>4</td>\n",
       "    </tr>\n",
       "    <tr>\n",
       "      <th>4</th>\n",
       "      <td>11</td>\n",
       "      <td>23</td>\n",
       "      <td>7</td>\n",
       "      <td>5</td>\n",
       "      <td>1</td>\n",
       "      <td>289</td>\n",
       "      <td>36</td>\n",
       "      <td>13</td>\n",
       "      <td>33</td>\n",
       "      <td>239554</td>\n",
       "      <td>...</td>\n",
       "      <td>0</td>\n",
       "      <td>1</td>\n",
       "      <td>2</td>\n",
       "      <td>1</td>\n",
       "      <td>0</td>\n",
       "      <td>1</td>\n",
       "      <td>90</td>\n",
       "      <td>172</td>\n",
       "      <td>30</td>\n",
       "      <td>2</td>\n",
       "    </tr>\n",
       "  </tbody>\n",
       "</table>\n",
       "<p>5 rows × 21 columns</p>\n",
       "</div>"
      ],
      "text/plain": [
       "   id  reason_absence  month_absence  day  season  transport_expense  \\\n",
       "0  11              26              7    3       1                289   \n",
       "1  36               0              7    3       1                118   \n",
       "2   3              23              7    4       1                179   \n",
       "3   7               7              7    5       1                279   \n",
       "4  11              23              7    5       1                289   \n",
       "\n",
       "   distance_to_work  service_time  age  workload_average_day       ...        \\\n",
       "0                36            13   33                239554       ...         \n",
       "1                13            18   50                239554       ...         \n",
       "2                51            18   38                239554       ...         \n",
       "3                 5            14   39                239554       ...         \n",
       "4                36            13   33                239554       ...         \n",
       "\n",
       "   discipline_failure  education  num_children  social_drinker  social_smoker  \\\n",
       "0                   0          1             2               1              0   \n",
       "1                   1          1             1               1              0   \n",
       "2                   0          1             0               1              0   \n",
       "3                   0          1             2               1              1   \n",
       "4                   0          1             2               1              0   \n",
       "\n",
       "   pet  weight  height  bmi  absentee_hours  \n",
       "0    1      90     172   30               4  \n",
       "1    0      98     178   31               0  \n",
       "2    0      89     170   31               2  \n",
       "3    0      68     168   24               4  \n",
       "4    1      90     172   30               2  \n",
       "\n",
       "[5 rows x 21 columns]"
      ]
     },
     "execution_count": 5,
     "metadata": {},
     "output_type": "execute_result"
    }
   ],
   "source": [
    "absentee.head()"
   ]
  },
  {
   "cell_type": "code",
   "execution_count": 6,
   "metadata": {
    "collapsed": true
   },
   "outputs": [],
   "source": [
    "absentee.drop(['id'], 1, inplace=True)"
   ]
  },
  {
   "cell_type": "code",
   "execution_count": 7,
   "metadata": {
    "collapsed": true
   },
   "outputs": [],
   "source": [
    "absentee_cat = []"
   ]
  },
  {
   "cell_type": "code",
   "execution_count": 8,
   "metadata": {
    "collapsed": true
   },
   "outputs": [],
   "source": [
    "for i in range(0, 740):\n",
    "    if absentee['absentee_hours'][i] > 8:\n",
    "        absentee_cat.append(1)\n",
    "    else:\n",
    "        absentee_cat.append(0)"
   ]
  },
  {
   "cell_type": "code",
   "execution_count": 9,
   "metadata": {
    "collapsed": true
   },
   "outputs": [],
   "source": [
    "category = pd.DataFrame()"
   ]
  },
  {
   "cell_type": "code",
   "execution_count": 10,
   "metadata": {
    "collapsed": true
   },
   "outputs": [],
   "source": [
    "category['absent_category'] = absentee_cat"
   ]
  },
  {
   "cell_type": "code",
   "execution_count": 11,
   "metadata": {},
   "outputs": [
    {
     "data": {
      "text/html": [
       "<div>\n",
       "<style>\n",
       "    .dataframe thead tr:only-child th {\n",
       "        text-align: right;\n",
       "    }\n",
       "\n",
       "    .dataframe thead th {\n",
       "        text-align: left;\n",
       "    }\n",
       "\n",
       "    .dataframe tbody tr th {\n",
       "        vertical-align: top;\n",
       "    }\n",
       "</style>\n",
       "<table border=\"1\" class=\"dataframe\">\n",
       "  <thead>\n",
       "    <tr style=\"text-align: right;\">\n",
       "      <th></th>\n",
       "      <th>reason_absence</th>\n",
       "      <th>month_absence</th>\n",
       "      <th>day</th>\n",
       "      <th>season</th>\n",
       "      <th>transport_expense</th>\n",
       "      <th>distance_to_work</th>\n",
       "      <th>service_time</th>\n",
       "      <th>age</th>\n",
       "      <th>workload_average_day</th>\n",
       "      <th>hit_target</th>\n",
       "      <th>discipline_failure</th>\n",
       "      <th>education</th>\n",
       "      <th>num_children</th>\n",
       "      <th>social_drinker</th>\n",
       "      <th>social_smoker</th>\n",
       "      <th>pet</th>\n",
       "      <th>weight</th>\n",
       "      <th>height</th>\n",
       "      <th>bmi</th>\n",
       "      <th>absentee_hours</th>\n",
       "    </tr>\n",
       "  </thead>\n",
       "  <tbody>\n",
       "    <tr>\n",
       "      <th>0</th>\n",
       "      <td>26</td>\n",
       "      <td>7</td>\n",
       "      <td>3</td>\n",
       "      <td>1</td>\n",
       "      <td>289</td>\n",
       "      <td>36</td>\n",
       "      <td>13</td>\n",
       "      <td>33</td>\n",
       "      <td>239554</td>\n",
       "      <td>97</td>\n",
       "      <td>0</td>\n",
       "      <td>1</td>\n",
       "      <td>2</td>\n",
       "      <td>1</td>\n",
       "      <td>0</td>\n",
       "      <td>1</td>\n",
       "      <td>90</td>\n",
       "      <td>172</td>\n",
       "      <td>30</td>\n",
       "      <td>4</td>\n",
       "    </tr>\n",
       "    <tr>\n",
       "      <th>1</th>\n",
       "      <td>0</td>\n",
       "      <td>7</td>\n",
       "      <td>3</td>\n",
       "      <td>1</td>\n",
       "      <td>118</td>\n",
       "      <td>13</td>\n",
       "      <td>18</td>\n",
       "      <td>50</td>\n",
       "      <td>239554</td>\n",
       "      <td>97</td>\n",
       "      <td>1</td>\n",
       "      <td>1</td>\n",
       "      <td>1</td>\n",
       "      <td>1</td>\n",
       "      <td>0</td>\n",
       "      <td>0</td>\n",
       "      <td>98</td>\n",
       "      <td>178</td>\n",
       "      <td>31</td>\n",
       "      <td>0</td>\n",
       "    </tr>\n",
       "    <tr>\n",
       "      <th>2</th>\n",
       "      <td>23</td>\n",
       "      <td>7</td>\n",
       "      <td>4</td>\n",
       "      <td>1</td>\n",
       "      <td>179</td>\n",
       "      <td>51</td>\n",
       "      <td>18</td>\n",
       "      <td>38</td>\n",
       "      <td>239554</td>\n",
       "      <td>97</td>\n",
       "      <td>0</td>\n",
       "      <td>1</td>\n",
       "      <td>0</td>\n",
       "      <td>1</td>\n",
       "      <td>0</td>\n",
       "      <td>0</td>\n",
       "      <td>89</td>\n",
       "      <td>170</td>\n",
       "      <td>31</td>\n",
       "      <td>2</td>\n",
       "    </tr>\n",
       "    <tr>\n",
       "      <th>3</th>\n",
       "      <td>7</td>\n",
       "      <td>7</td>\n",
       "      <td>5</td>\n",
       "      <td>1</td>\n",
       "      <td>279</td>\n",
       "      <td>5</td>\n",
       "      <td>14</td>\n",
       "      <td>39</td>\n",
       "      <td>239554</td>\n",
       "      <td>97</td>\n",
       "      <td>0</td>\n",
       "      <td>1</td>\n",
       "      <td>2</td>\n",
       "      <td>1</td>\n",
       "      <td>1</td>\n",
       "      <td>0</td>\n",
       "      <td>68</td>\n",
       "      <td>168</td>\n",
       "      <td>24</td>\n",
       "      <td>4</td>\n",
       "    </tr>\n",
       "    <tr>\n",
       "      <th>4</th>\n",
       "      <td>23</td>\n",
       "      <td>7</td>\n",
       "      <td>5</td>\n",
       "      <td>1</td>\n",
       "      <td>289</td>\n",
       "      <td>36</td>\n",
       "      <td>13</td>\n",
       "      <td>33</td>\n",
       "      <td>239554</td>\n",
       "      <td>97</td>\n",
       "      <td>0</td>\n",
       "      <td>1</td>\n",
       "      <td>2</td>\n",
       "      <td>1</td>\n",
       "      <td>0</td>\n",
       "      <td>1</td>\n",
       "      <td>90</td>\n",
       "      <td>172</td>\n",
       "      <td>30</td>\n",
       "      <td>2</td>\n",
       "    </tr>\n",
       "  </tbody>\n",
       "</table>\n",
       "</div>"
      ],
      "text/plain": [
       "   reason_absence  month_absence  day  season  transport_expense  \\\n",
       "0              26              7    3       1                289   \n",
       "1               0              7    3       1                118   \n",
       "2              23              7    4       1                179   \n",
       "3               7              7    5       1                279   \n",
       "4              23              7    5       1                289   \n",
       "\n",
       "   distance_to_work  service_time  age  workload_average_day  hit_target  \\\n",
       "0                36            13   33                239554          97   \n",
       "1                13            18   50                239554          97   \n",
       "2                51            18   38                239554          97   \n",
       "3                 5            14   39                239554          97   \n",
       "4                36            13   33                239554          97   \n",
       "\n",
       "   discipline_failure  education  num_children  social_drinker  social_smoker  \\\n",
       "0                   0          1             2               1              0   \n",
       "1                   1          1             1               1              0   \n",
       "2                   0          1             0               1              0   \n",
       "3                   0          1             2               1              1   \n",
       "4                   0          1             2               1              0   \n",
       "\n",
       "   pet  weight  height  bmi  absentee_hours  \n",
       "0    1      90     172   30               4  \n",
       "1    0      98     178   31               0  \n",
       "2    0      89     170   31               2  \n",
       "3    0      68     168   24               4  \n",
       "4    1      90     172   30               2  "
      ]
     },
     "execution_count": 11,
     "metadata": {},
     "output_type": "execute_result"
    }
   ],
   "source": [
    "absentee.head()"
   ]
  },
  {
   "cell_type": "code",
   "execution_count": 12,
   "metadata": {
    "collapsed": true
   },
   "outputs": [],
   "source": [
    "absentee.drop(['absentee_hours'], 1, inplace=True)"
   ]
  },
  {
   "cell_type": "code",
   "execution_count": 13,
   "metadata": {
    "collapsed": true
   },
   "outputs": [],
   "source": [
    "Y = list(category['absent_category'])"
   ]
  },
  {
   "cell_type": "markdown",
   "metadata": {},
   "source": [
    "### OLS Logistic Regression ###\n",
    "Two OLS logistic modles were created.  One model was created using the statsmodel package and the other was created using the sklearn.  "
   ]
  },
  {
   "cell_type": "code",
   "execution_count": 14,
   "metadata": {},
   "outputs": [
    {
     "name": "stdout",
     "output_type": "stream",
     "text": [
      "Warning: Maximum number of iterations has been exceeded.\n",
      "         Current function value: 0.223719\n",
      "         Iterations: 35\n",
      "                           Logit Regression Results                           \n",
      "==============================================================================\n",
      "Dep. Variable:                      y   No. Observations:                  740\n",
      "Model:                          Logit   Df Residuals:                      720\n",
      "Method:                           MLE   Df Model:                           19\n",
      "Date:                Sun, 20 May 2018   Pseudo R-squ.:                  0.2316\n",
      "Time:                        14:40:10   Log-Likelihood:                -165.55\n",
      "converged:                      False   LL-Null:                       -215.44\n",
      "                                        LLR p-value:                 5.881e-13\n",
      "========================================================================================\n",
      "                           coef    std err          z      P>|z|      [0.025      0.975]\n",
      "----------------------------------------------------------------------------------------\n",
      "reason_absence          -0.1138      0.019     -5.859      0.000      -0.152      -0.076\n",
      "month_absence           -0.0203      0.059     -0.346      0.730      -0.135       0.095\n",
      "day                     -0.3036      0.113     -2.687      0.007      -0.525      -0.082\n",
      "season                   0.1630      0.161      1.014      0.310      -0.152       0.478\n",
      "transport_expense       -0.0005      0.003     -0.159      0.873      -0.006       0.005\n",
      "distance_to_work        -0.0115      0.015     -0.759      0.448      -0.041       0.018\n",
      "service_time            -0.0271      0.067     -0.405      0.686      -0.159       0.104\n",
      "age                     -0.0046      0.035     -0.131      0.896      -0.073       0.064\n",
      "workload_average_day  4.831e-06   3.68e-06      1.311      0.190   -2.39e-06    1.21e-05\n",
      "hit_target              -0.0337      0.044     -0.772      0.440      -0.119       0.052\n",
      "discipline_failure     -26.1055   6.91e+04     -0.000      1.000   -1.35e+05    1.35e+05\n",
      "education               -0.1284      0.299     -0.429      0.668      -0.715       0.458\n",
      "num_children             0.1009      0.144      0.699      0.485      -0.182       0.384\n",
      "social_drinker           1.3957      0.540      2.583      0.010       0.337       2.455\n",
      "social_smoker           -0.0364      0.647     -0.056      0.955      -1.305       1.232\n",
      "pet                     -0.3454      0.193     -1.787      0.074      -0.724       0.034\n",
      "weight                   0.3611      0.186      1.941      0.052      -0.004       0.726\n",
      "height                  -0.3033      0.164     -1.853      0.064      -0.624       0.018\n",
      "bmi                     -1.1249      0.550     -2.046      0.041      -2.203      -0.047\n",
      "intercept               56.2483     29.251      1.923      0.054      -1.083     113.579\n",
      "========================================================================================\n"
     ]
    },
    {
     "name": "stderr",
     "output_type": "stream",
     "text": [
      "/Users/lorenzmadarang/anaconda3/lib/python3.6/site-packages/statsmodels/base/model.py:496: ConvergenceWarning: Maximum Likelihood optimization failed to converge. Check mle_retvals\n",
      "  \"Check mle_retvals\", ConvergenceWarning)\n"
     ]
    }
   ],
   "source": [
    "# Declare predictors.\n",
    "X_statsmod = absentee\n",
    "\n",
    "# The Statsmodels formulation requires a column with constant value 1 that\n",
    "# will act as the intercept.\n",
    "X_statsmod['intercept'] = 1 \n",
    "\n",
    "# Declare and fit the model.\n",
    "logit = sm.Logit(Y, X_statsmod)\n",
    "result = logit.fit()\n",
    "\n",
    "# Lots of information about the model and its coefficients, but the\n",
    "# accuracy rate for predictions is missing.\n",
    "print(result.summary())"
   ]
  },
  {
   "cell_type": "code",
   "execution_count": 15,
   "metadata": {},
   "outputs": [
    {
     "name": "stdout",
     "output_type": "stream",
     "text": [
      "\n",
      " Accuracy by admission status\n",
      "col_0              0  1\n",
      "absent_category        \n",
      "0                670  7\n",
      "1                 56  7\n",
      "\n",
      " Percentage accuracy\n",
      "0.914864864865\n"
     ]
    }
   ],
   "source": [
    "# Calculate accuracy. First, get probability that each row will be admitted.\n",
    "pred_statsmod = result.predict(X_statsmod)\n",
    "\n",
    "# Code admission as 1 if probability is greater than .5.\n",
    "pred_y_statsmod = np.where(pred_statsmod < .5, 0, 1)\n",
    "\n",
    "Y = pd.DataFrame(Y)\n",
    "\n",
    "# Accuracy table.\n",
    "table = pd.crosstab(category['absent_category'], pred_y_statsmod)\n",
    "\n",
    "print('\\n Accuracy by admission status')\n",
    "print(table)\n",
    "print('\\n Percentage accuracy')\n",
    "print((table.iloc[0,0] + table.iloc[1,1]) / (table.sum().sum()))"
   ]
  },
  {
   "cell_type": "code",
   "execution_count": 16,
   "metadata": {},
   "outputs": [],
   "source": [
    "absentee.drop(['intercept'], 1, inplace=True)"
   ]
  },
  {
   "cell_type": "code",
   "execution_count": 26,
   "metadata": {},
   "outputs": [
    {
     "name": "stdout",
     "output_type": "stream",
     "text": [
      "Coefficients\n",
      "[[ -1.20631466e-02  -5.36826404e-04  -1.44745447e-03  -9.92832756e-05\n",
      "   -1.72578860e-03  -7.91995460e-03  -5.70482610e-04  -3.15228527e-03\n",
      "    7.79343817e-06  -1.02965468e-02  -1.19067043e-04  -2.87069118e-04\n",
      "    5.12443982e-04   3.55569085e-04  -3.39389935e-05  -6.36865488e-04\n",
      "   -6.41223247e-03  -1.14504947e-02  -4.18750647e-03]]\n",
      "[-0.00010276]\n",
      "\n",
      " Accuracy by admission status\n",
      "absent_category    0   1\n",
      "row_0                   \n",
      "0                677  63\n",
      "\n",
      " Percentage accuracy\n",
      "0.914864864865\n"
     ]
    }
   ],
   "source": [
    "# Declare a logistic regression classifier.\n",
    "# Parameter regularization coefficient C described above.\n",
    "lr = LogisticRegression(C=1e12)\n",
    "y = category['absent_category']\n",
    "X = absentee\n",
    "\n",
    "# Fit the model.\n",
    "fit = lr.fit(X, y)\n",
    "\n",
    "# Display.\n",
    "print('Coefficients')\n",
    "print(fit.coef_)\n",
    "print(fit.intercept_)\n",
    "pred_y_sklearn = lr.predict(X)\n",
    "\n",
    "print('\\n Accuracy by admission status')\n",
    "print(pd.crosstab(pred_y_sklearn, y))\n",
    "\n",
    "print('\\n Percentage accuracy')\n",
    "print(lr.score(X, y))"
   ]
  },
  {
   "cell_type": "code",
   "execution_count": 27,
   "metadata": {},
   "outputs": [
    {
     "data": {
      "text/plain": [
       "array([ 0.90666667,  0.90666667,  0.90666667,  0.91891892,  0.91891892,\n",
       "        0.91891892,  0.91891892,  0.91780822,  0.91780822,  0.91780822])"
      ]
     },
     "execution_count": 27,
     "metadata": {},
     "output_type": "execute_result"
    }
   ],
   "source": [
    "cross_val_score(lr, X, y, cv=10)"
   ]
  },
  {
   "cell_type": "code",
   "execution_count": 28,
   "metadata": {},
   "outputs": [
    {
     "name": "stdout",
     "output_type": "stream",
     "text": [
      "Mean accuracy is 0.9149100333209923\n"
     ]
    }
   ],
   "source": [
    "score = cross_val_score(lr, X, y, cv=10)\n",
    "print(\"Mean accuracy is {}\".format(score.mean()))"
   ]
  },
  {
   "cell_type": "markdown",
   "metadata": {},
   "source": [
    "### Lasso Logistic Regression ###"
   ]
  },
  {
   "cell_type": "code",
   "execution_count": 20,
   "metadata": {},
   "outputs": [
    {
     "name": "stdout",
     "output_type": "stream",
     "text": [
      "Coefficients\n",
      "[[ -1.06052937e-01   4.07776796e-03  -2.62072719e-01   5.45547243e-02\n",
      "   -5.65880370e-04  -1.66507845e-02  -7.49975626e-03  -6.90214331e-03\n",
      "    6.59174812e-06  -8.83997596e-03  -3.46227377e+00   0.00000000e+00\n",
      "    1.13921296e-01   1.25060822e+00  -8.55070896e-02  -2.16127460e-01\n",
      "    1.36336998e-03   6.40738001e-03  -6.44614008e-02]]\n",
      "[ 0.]\n",
      "\n",
      " Accuracy by admission status\n",
      "absent_category    0   1\n",
      "row_0                   \n",
      "0                673  59\n",
      "1                  4   4\n",
      "\n",
      " Percentage accuracy\n",
      "0.914864864865\n"
     ]
    }
   ],
   "source": [
    "lrlasso = LogisticRegression(penalty='l1')\n",
    "y = category['absent_category']\n",
    "X = absentee\n",
    "\n",
    "# Fit the model.\n",
    "fit = lrlasso.fit(X, y)\n",
    "\n",
    "# Display.\n",
    "print('Coefficients')\n",
    "print(fit.coef_)\n",
    "print(fit.intercept_)\n",
    "pred_y_sklearn = lrlasso.predict(X)\n",
    "\n",
    "print('\\n Accuracy by admission status')\n",
    "print(pd.crosstab(pred_y_sklearn, y))\n",
    "\n",
    "print('\\n Percentage accuracy')\n",
    "print(lrlasso.score(X, y))"
   ]
  },
  {
   "cell_type": "code",
   "execution_count": 21,
   "metadata": {},
   "outputs": [
    {
     "data": {
      "text/plain": [
       "array([ 0.89333333,  0.89333333,  0.8       ,  0.90540541,  0.91891892,\n",
       "        0.91891892,  0.91891892,  0.91780822,  0.91780822,  0.93150685])"
      ]
     },
     "execution_count": 21,
     "metadata": {},
     "output_type": "execute_result"
    }
   ],
   "source": [
    "cross_val_score(lrlasso, X, y, cv=10)"
   ]
  },
  {
   "cell_type": "code",
   "execution_count": 22,
   "metadata": {},
   "outputs": [
    {
     "name": "stdout",
     "output_type": "stream",
     "text": [
      "Mean accuracy is 0.9029465630013576\n"
     ]
    }
   ],
   "source": [
    "score = cross_val_score(lrlasso, X, y, cv=10)\n",
    "print(\"Mean accuracy is {}\".format(score.mean()))"
   ]
  },
  {
   "cell_type": "markdown",
   "metadata": {},
   "source": [
    "### Ridge Logistic Regression ###"
   ]
  },
  {
   "cell_type": "code",
   "execution_count": 23,
   "metadata": {},
   "outputs": [
    {
     "name": "stdout",
     "output_type": "stream",
     "text": [
      "Coefficients\n",
      "[[ -1.20629148e-02  -5.36818946e-04  -1.44742666e-03  -9.92817803e-05\n",
      "   -1.72579948e-03  -7.91980879e-03  -5.70476536e-04  -3.15223505e-03\n",
      "    7.79321482e-06  -1.02963705e-02  -1.19064620e-04  -2.87063791e-04\n",
      "    5.12433532e-04   3.55561634e-04  -3.39382675e-05  -6.36852742e-04\n",
      "   -6.41213434e-03  -1.14503182e-02  -4.18743286e-03]]\n",
      "[-0.00010276]\n",
      "\n",
      " Accuracy by admission status\n",
      "absent_category    0   1\n",
      "row_0                   \n",
      "0                677  63\n",
      "\n",
      " Percentage accuracy\n",
      "0.914864864865\n"
     ]
    }
   ],
   "source": [
    "lrridge = LogisticRegression(penalty='l2')\n",
    "y = category['absent_category']\n",
    "X = absentee\n",
    "\n",
    "# Fit the model.\n",
    "fit = lrridge.fit(X, y)\n",
    "\n",
    "# Display.\n",
    "print('Coefficients')\n",
    "print(fit.coef_)\n",
    "print(fit.intercept_)\n",
    "pred_y_sklearn = lrridge.predict(X)\n",
    "\n",
    "print('\\n Accuracy by admission status')\n",
    "print(pd.crosstab(pred_y_sklearn, y))\n",
    "\n",
    "print('\\n Percentage accuracy')\n",
    "print(lrridge.score(X, y))"
   ]
  },
  {
   "cell_type": "code",
   "execution_count": 24,
   "metadata": {},
   "outputs": [
    {
     "data": {
      "text/plain": [
       "array([ 0.90666667,  0.90666667,  0.90666667,  0.91891892,  0.91891892,\n",
       "        0.91891892,  0.91891892,  0.91780822,  0.91780822,  0.91780822])"
      ]
     },
     "execution_count": 24,
     "metadata": {},
     "output_type": "execute_result"
    }
   ],
   "source": [
    "cross_val_score(lrridge, X, y, cv=10)"
   ]
  },
  {
   "cell_type": "code",
   "execution_count": 25,
   "metadata": {},
   "outputs": [
    {
     "name": "stdout",
     "output_type": "stream",
     "text": [
      "Mean accuracy is 0.9149100333209923\n"
     ]
    }
   ],
   "source": [
    "score = cross_val_score(lrridge, X, y, cv=10)\n",
    "print(\"Mean accuracy is {}\".format(score.mean()))"
   ]
  },
  {
   "cell_type": "markdown",
   "metadata": {},
   "source": [
    "## Overall Evaluation ##\n",
    "The two models that performed the best were the OLS Logistic Regression and the Ridge Logistic Regression.  Essentially, the OLS Logistic Regression and the Ridge Logistic Regression were the same.  The cross-validation scores for both models were the same.  The Lasso Logisitic Regression did not perform well.  I believe that the Lasso Logistic Regression did not perform as well because all the features in the model were most likely significant and it removed features that was able to account for a bit of the variance.  \n",
    "\n",
    "One of the strengths of regression is that it is not a black box model.  We are able to understand what goes in the formulation and prediction of a regression model.  One of th elimitations of regression is the initial assumption that the residuals of the model will be normal.  It is pretty difficult to have normally distributed residuals in real life.  The validity of a regression model comes into question when the residuals do not follow a normal distribution.  "
   ]
  },
  {
   "cell_type": "code",
   "execution_count": null,
   "metadata": {
    "collapsed": true
   },
   "outputs": [],
   "source": []
  }
 ],
 "metadata": {
  "kernelspec": {
   "display_name": "Python 3",
   "language": "python",
   "name": "python3"
  },
  "language_info": {
   "codemirror_mode": {
    "name": "ipython",
    "version": 3
   },
   "file_extension": ".py",
   "mimetype": "text/x-python",
   "name": "python",
   "nbconvert_exporter": "python",
   "pygments_lexer": "ipython3",
   "version": "3.6.2"
  }
 },
 "nbformat": 4,
 "nbformat_minor": 2
}
