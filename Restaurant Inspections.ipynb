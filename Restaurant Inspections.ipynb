{
 "cells": [
  {
   "cell_type": "code",
   "execution_count": 1,
   "metadata": {
    "collapsed": true
   },
   "outputs": [],
   "source": [
    "%matplotlib inline\n",
    "import numpy as np\n",
    "import pandas as pd\n",
    "import scipy\n",
    "import sklearn\n",
    "import matplotlib.pyplot as plt\n",
    "import seaborn as sns\n",
    "import re\n",
    "from string import punctuation\n",
    "from collections import Counter\n",
    "import operator\n",
    "from sklearn import linear_model\n",
    "import statsmodels.formula.api as smf"
   ]
  },
  {
   "cell_type": "code",
   "execution_count": 2,
   "metadata": {
    "collapsed": true
   },
   "outputs": [],
   "source": [
    "#Read CSV into Pandas DataFrame\n",
    "restaurant = pd.read_csv('Restaurant_Inspections.csv')"
   ]
  },
  {
   "cell_type": "code",
   "execution_count": 3,
   "metadata": {},
   "outputs": [
    {
     "data": {
      "text/html": [
       "<div>\n",
       "<style>\n",
       "    .dataframe thead tr:only-child th {\n",
       "        text-align: right;\n",
       "    }\n",
       "\n",
       "    .dataframe thead th {\n",
       "        text-align: left;\n",
       "    }\n",
       "\n",
       "    .dataframe tbody tr th {\n",
       "        vertical-align: top;\n",
       "    }\n",
       "</style>\n",
       "<table border=\"1\" class=\"dataframe\">\n",
       "  <thead>\n",
       "    <tr style=\"text-align: right;\">\n",
       "      <th></th>\n",
       "      <th>Serial Number</th>\n",
       "      <th>Permit Number</th>\n",
       "      <th>Restaurant Name</th>\n",
       "      <th>Location Name</th>\n",
       "      <th>Category Name</th>\n",
       "      <th>Address</th>\n",
       "      <th>City</th>\n",
       "      <th>State</th>\n",
       "      <th>Zip</th>\n",
       "      <th>Current Demerits</th>\n",
       "      <th>...</th>\n",
       "      <th>Inspection Time</th>\n",
       "      <th>Employee ID</th>\n",
       "      <th>Inspection Type</th>\n",
       "      <th>Inspection Demerits</th>\n",
       "      <th>Inspection Grade</th>\n",
       "      <th>Permit Status</th>\n",
       "      <th>Inspection Result</th>\n",
       "      <th>Violations</th>\n",
       "      <th>Record Updated</th>\n",
       "      <th>Location 1</th>\n",
       "    </tr>\n",
       "  </thead>\n",
       "  <tbody>\n",
       "    <tr>\n",
       "      <th>0</th>\n",
       "      <td>DA0BEBWGS</td>\n",
       "      <td>PR0003177</td>\n",
       "      <td>7-Eleven #32224 - SNACK BAR</td>\n",
       "      <td>7-Eleven Convenience Store #32224</td>\n",
       "      <td>Snack Bar</td>\n",
       "      <td>5576 Boulder Hwy</td>\n",
       "      <td>Las Vegas</td>\n",
       "      <td>Nevada</td>\n",
       "      <td>89122-6010</td>\n",
       "      <td>3</td>\n",
       "      <td>...</td>\n",
       "      <td>02/09/2017 10:00:00 AM</td>\n",
       "      <td>EE7000559</td>\n",
       "      <td>Routine Inspection</td>\n",
       "      <td>3</td>\n",
       "      <td>A</td>\n",
       "      <td>A</td>\n",
       "      <td>'A' Grade</td>\n",
       "      <td>215,2927</td>\n",
       "      <td>02/09/2017 10:37:14 AM</td>\n",
       "      <td>(36.101164, 115.0522322)</td>\n",
       "    </tr>\n",
       "    <tr>\n",
       "      <th>1</th>\n",
       "      <td>DAZMWKXWQ</td>\n",
       "      <td>PR0000140</td>\n",
       "      <td>Wendy's #4880</td>\n",
       "      <td>Wendy's #4880</td>\n",
       "      <td>Restaurant</td>\n",
       "      <td>1131 W Sunset Rd</td>\n",
       "      <td>Henderson</td>\n",
       "      <td>Nevada</td>\n",
       "      <td>89014-6601</td>\n",
       "      <td>3</td>\n",
       "      <td>...</td>\n",
       "      <td>04/23/2018 01:40:00 PM</td>\n",
       "      <td>EE7001336</td>\n",
       "      <td>Routine Inspection</td>\n",
       "      <td>3</td>\n",
       "      <td>A</td>\n",
       "      <td>NaN</td>\n",
       "      <td>'A' Grade</td>\n",
       "      <td>211</td>\n",
       "      <td>04/23/2018 03:18:01 PM</td>\n",
       "      <td>(36.0633057, 115.035572)</td>\n",
       "    </tr>\n",
       "    <tr>\n",
       "      <th>2</th>\n",
       "      <td>DAG7WIP7B</td>\n",
       "      <td>PR0000194</td>\n",
       "      <td>Palace Station Trackside Bar</td>\n",
       "      <td>Palace Station</td>\n",
       "      <td>Bar / Tavern</td>\n",
       "      <td>2411 W Sahara Ave</td>\n",
       "      <td>Las Vegas</td>\n",
       "      <td>Nevada</td>\n",
       "      <td>89102-4343</td>\n",
       "      <td>6</td>\n",
       "      <td>...</td>\n",
       "      <td>05/09/2018 01:45:00 PM</td>\n",
       "      <td>EE7001344</td>\n",
       "      <td>Routine Inspection</td>\n",
       "      <td>6</td>\n",
       "      <td>A</td>\n",
       "      <td>NaN</td>\n",
       "      <td>'A' Grade</td>\n",
       "      <td>215,2911,2955</td>\n",
       "      <td>05/09/2018 04:44:20 PM</td>\n",
       "      <td>(36.1442045, 115.1743414)</td>\n",
       "    </tr>\n",
       "    <tr>\n",
       "      <th>3</th>\n",
       "      <td>DAQAXU0BQ</td>\n",
       "      <td>PR0000203</td>\n",
       "      <td>Palace Station Palace Pub</td>\n",
       "      <td>Palace Station</td>\n",
       "      <td>Bar / Tavern</td>\n",
       "      <td>2411 W Sahara Ave</td>\n",
       "      <td>Las Vegas</td>\n",
       "      <td>Nevada</td>\n",
       "      <td>89102-4343</td>\n",
       "      <td>8</td>\n",
       "      <td>...</td>\n",
       "      <td>05/09/2018 03:45:00 PM</td>\n",
       "      <td>EE7001344</td>\n",
       "      <td>Routine Inspection</td>\n",
       "      <td>8</td>\n",
       "      <td>A</td>\n",
       "      <td>NaN</td>\n",
       "      <td>'A' Grade</td>\n",
       "      <td>202,2955</td>\n",
       "      <td>05/09/2018 04:49:44 PM</td>\n",
       "      <td>(36.1442045, 115.1743414)</td>\n",
       "    </tr>\n",
       "    <tr>\n",
       "      <th>4</th>\n",
       "      <td>DAAVORW0Y</td>\n",
       "      <td>PR0000208</td>\n",
       "      <td>PALACE STATION PIT BAR</td>\n",
       "      <td>Palace Station</td>\n",
       "      <td>Bar / Tavern</td>\n",
       "      <td>2411 W Sahara Ave</td>\n",
       "      <td>Las Vegas</td>\n",
       "      <td>Nevada</td>\n",
       "      <td>89102-4343</td>\n",
       "      <td>6</td>\n",
       "      <td>...</td>\n",
       "      <td>05/09/2018 02:30:00 PM</td>\n",
       "      <td>EE7001344</td>\n",
       "      <td>Routine Inspection</td>\n",
       "      <td>6</td>\n",
       "      <td>A</td>\n",
       "      <td>NaN</td>\n",
       "      <td>'A' Grade</td>\n",
       "      <td>211,2930,2955</td>\n",
       "      <td>05/09/2018 04:44:30 PM</td>\n",
       "      <td>(36.1442045, 115.1743414)</td>\n",
       "    </tr>\n",
       "  </tbody>\n",
       "</table>\n",
       "<p>5 rows × 23 columns</p>\n",
       "</div>"
      ],
      "text/plain": [
       "  Serial Number Permit Number               Restaurant Name  \\\n",
       "0     DA0BEBWGS     PR0003177   7-Eleven #32224 - SNACK BAR   \n",
       "1     DAZMWKXWQ     PR0000140                 Wendy's #4880   \n",
       "2     DAG7WIP7B     PR0000194  Palace Station Trackside Bar   \n",
       "3     DAQAXU0BQ     PR0000203     Palace Station Palace Pub   \n",
       "4     DAAVORW0Y     PR0000208        PALACE STATION PIT BAR   \n",
       "\n",
       "                       Location Name Category Name            Address  \\\n",
       "0  7-Eleven Convenience Store #32224     Snack Bar   5576 Boulder Hwy   \n",
       "1                      Wendy's #4880    Restaurant   1131 W Sunset Rd   \n",
       "2                     Palace Station  Bar / Tavern  2411 W Sahara Ave   \n",
       "3                     Palace Station  Bar / Tavern  2411 W Sahara Ave   \n",
       "4                     Palace Station  Bar / Tavern  2411 W Sahara Ave   \n",
       "\n",
       "        City   State         Zip  Current Demerits            ...              \\\n",
       "0  Las Vegas  Nevada  89122-6010                 3            ...               \n",
       "1  Henderson  Nevada  89014-6601                 3            ...               \n",
       "2  Las Vegas  Nevada  89102-4343                 6            ...               \n",
       "3  Las Vegas  Nevada  89102-4343                 8            ...               \n",
       "4  Las Vegas  Nevada  89102-4343                 6            ...               \n",
       "\n",
       "          Inspection Time Employee ID     Inspection Type Inspection Demerits  \\\n",
       "0  02/09/2017 10:00:00 AM   EE7000559  Routine Inspection                   3   \n",
       "1  04/23/2018 01:40:00 PM   EE7001336  Routine Inspection                   3   \n",
       "2  05/09/2018 01:45:00 PM   EE7001344  Routine Inspection                   6   \n",
       "3  05/09/2018 03:45:00 PM   EE7001344  Routine Inspection                   8   \n",
       "4  05/09/2018 02:30:00 PM   EE7001344  Routine Inspection                   6   \n",
       "\n",
       "  Inspection Grade Permit Status  Inspection Result     Violations  \\\n",
       "0                A             A          'A' Grade       215,2927   \n",
       "1                A           NaN          'A' Grade            211   \n",
       "2                A           NaN          'A' Grade  215,2911,2955   \n",
       "3                A           NaN          'A' Grade       202,2955   \n",
       "4                A           NaN          'A' Grade  211,2930,2955   \n",
       "\n",
       "           Record Updated                 Location 1  \n",
       "0  02/09/2017 10:37:14 AM   (36.101164, 115.0522322)  \n",
       "1  04/23/2018 03:18:01 PM   (36.0633057, 115.035572)  \n",
       "2  05/09/2018 04:44:20 PM  (36.1442045, 115.1743414)  \n",
       "3  05/09/2018 04:49:44 PM  (36.1442045, 115.1743414)  \n",
       "4  05/09/2018 04:44:30 PM  (36.1442045, 115.1743414)  \n",
       "\n",
       "[5 rows x 23 columns]"
      ]
     },
     "execution_count": 3,
     "metadata": {},
     "output_type": "execute_result"
    }
   ],
   "source": [
    "#Take a peak at the data\n",
    "restaurant.head()"
   ]
  },
  {
   "cell_type": "code",
   "execution_count": 4,
   "metadata": {},
   "outputs": [
    {
     "data": {
      "text/plain": [
       "Index(['Serial Number', 'Permit Number', 'Restaurant Name', 'Location Name',\n",
       "       'Category Name', 'Address', 'City', 'State', 'Zip', 'Current Demerits',\n",
       "       'Current Grade', 'Date Current', 'Inspection Date', 'Inspection Time',\n",
       "       'Employee ID', 'Inspection Type', 'Inspection Demerits',\n",
       "       'Inspection Grade', 'Permit Status', 'Inspection Result', 'Violations',\n",
       "       'Record Updated', 'Location 1'],\n",
       "      dtype='object')"
      ]
     },
     "execution_count": 4,
     "metadata": {},
     "output_type": "execute_result"
    }
   ],
   "source": [
    "#Look at the column names of the DataFrame\n",
    "restaurant.columns"
   ]
  },
  {
   "cell_type": "code",
   "execution_count": 5,
   "metadata": {},
   "outputs": [
    {
     "data": {
      "text/plain": [
       "dtype('O')"
      ]
     },
     "execution_count": 5,
     "metadata": {},
     "output_type": "execute_result"
    }
   ],
   "source": [
    "#What is the data type of the data in the 'Location Name' column\n",
    "restaurant['Location Name'].dtype"
   ]
  },
  {
   "cell_type": "code",
   "execution_count": 6,
   "metadata": {
    "collapsed": true
   },
   "outputs": [],
   "source": [
    "#Create empty lists for 'Location_Name' scores and 'dtype' scores\n",
    "locname_score = []\n",
    "dtype_score = []"
   ]
  },
  {
   "cell_type": "code",
   "execution_count": 7,
   "metadata": {
    "collapsed": true
   },
   "outputs": [],
   "source": [
    "#Iterate through Dataframe \n",
    "for index, row in restaurant.iterrows():\n",
    "    #Use regex to see if 'Palace' is in the location name, append locname_score with '1' if present, '0' otherwise\n",
    "    if re.match('Palace.*',str(row['Location Name'])):\n",
    "        locname_score.append(1)\n",
    "    else:\n",
    "        locname_score.append(0)\n",
    "    #Check to see if dataype is 'object', append dtype_score with '1' if dytpe is 'object', '0' otherwise\n",
    "    if restaurant['Location Name'].dtype == np.object:\n",
    "        dtype_score.append(1)\n",
    "    else:\n",
    "        dtype_score.append(0)"
   ]
  },
  {
   "cell_type": "code",
   "execution_count": 8,
   "metadata": {},
   "outputs": [
    {
     "name": "stdout",
     "output_type": "stream",
     "text": [
      "The location name score is 0.0018649570180781525\n",
      "The dtype score is 1.0\n"
     ]
    }
   ],
   "source": [
    "#Print out scores of 'locname_score' and 'dtype_score'\n",
    "print('The location name score is {}'.format(sum(locname_score)/len(locname_score)))\n",
    "print('The dtype score is {}'.format(sum(dtype_score)/len(dtype_score)))"
   ]
  },
  {
   "cell_type": "code",
   "execution_count": null,
   "metadata": {
    "collapsed": true
   },
   "outputs": [],
   "source": []
  }
 ],
 "metadata": {
  "kernelspec": {
   "display_name": "Python 3",
   "language": "python",
   "name": "python3"
  },
  "language_info": {
   "codemirror_mode": {
    "name": "ipython",
    "version": 3
   },
   "file_extension": ".py",
   "mimetype": "text/x-python",
   "name": "python",
   "nbconvert_exporter": "python",
   "pygments_lexer": "ipython3",
   "version": "3.6.2"
  }
 },
 "nbformat": 4,
 "nbformat_minor": 2
}
