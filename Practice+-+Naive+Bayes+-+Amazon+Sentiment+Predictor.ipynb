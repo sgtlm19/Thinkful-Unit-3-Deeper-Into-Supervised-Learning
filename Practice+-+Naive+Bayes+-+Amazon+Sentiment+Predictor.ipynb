{
 "cells": [
  {
   "cell_type": "markdown",
   "metadata": {},
   "source": [
    "# Practice - Naive Bayes - Predicting Amazon Review Sentiment on Music #"
   ]
  },
  {
   "cell_type": "markdown",
   "metadata": {},
   "source": [
    "## by Lorenz Madarang ##"
   ]
  },
  {
   "cell_type": "markdown",
   "metadata": {},
   "source": [
    "## Data: http://jmcauley.ucsd.edu/data/amazon/ ##"
   ]
  },
  {
   "cell_type": "code",
   "execution_count": 1,
   "metadata": {
    "collapsed": true
   },
   "outputs": [],
   "source": [
    "%matplotlib inline\n",
    "import numpy as np\n",
    "import pandas as pd\n",
    "import scipy\n",
    "import sklearn\n",
    "import matplotlib.pyplot as plt\n",
    "import seaborn as sns\n",
    "import re\n",
    "from string import punctuation\n",
    "from collections import Counter\n",
    "import operator\n",
    "from sklearn import linear_model\n",
    "import statsmodels.formula.api as smf\n",
    "\n",
    "# Display preferences.\n",
    "%matplotlib inline\n",
    "pd.options.display.float_format = '{:.3f}'.format"
   ]
  },
  {
   "cell_type": "markdown",
   "metadata": {},
   "source": [
    "### Data Ingestion and Model Prep ###\n",
    "For this data, I used a Naive Bayes model to predict the sentiment of the Amazon review of music.  I created a target feature titled \"sentiment_cat.\"  This feature indicated whether or not the review had a score of 2.0 or less.  I used the words in the reviewText feature to predict whether the rating had a score of less than 2.0.  I created a word list of the words used in the reviews that had a score of less than 2.0 and then I created a dictionary of the words and their associated counts.  I looked to see what were the most populat negative connotation words and created a negative connotation keword list to be used for our Naive Bayes classifier. The words I put in the keyword list were: 'but', 'not', 'off', 'back', 'never', 'nothing', 'worst', 'little', 'boring', 'trying', 'crap', 'horrible', 'waste', 'terrible', and 'awful'."
   ]
  },
  {
   "cell_type": "code",
   "execution_count": 3,
   "metadata": {},
   "outputs": [],
   "source": [
    "amazon = pd.read_json('reviews_CDs_and_Vinyl_5.json', lines=True)"
   ]
  },
  {
   "cell_type": "code",
   "execution_count": 4,
   "metadata": {},
   "outputs": [
    {
     "data": {
      "text/html": [
       "<div>\n",
       "<style>\n",
       "    .dataframe thead tr:only-child th {\n",
       "        text-align: right;\n",
       "    }\n",
       "\n",
       "    .dataframe thead th {\n",
       "        text-align: left;\n",
       "    }\n",
       "\n",
       "    .dataframe tbody tr th {\n",
       "        vertical-align: top;\n",
       "    }\n",
       "</style>\n",
       "<table border=\"1\" class=\"dataframe\">\n",
       "  <thead>\n",
       "    <tr style=\"text-align: right;\">\n",
       "      <th></th>\n",
       "      <th>asin</th>\n",
       "      <th>helpful</th>\n",
       "      <th>overall</th>\n",
       "      <th>reviewText</th>\n",
       "      <th>reviewTime</th>\n",
       "      <th>reviewerID</th>\n",
       "      <th>reviewerName</th>\n",
       "      <th>summary</th>\n",
       "      <th>unixReviewTime</th>\n",
       "    </tr>\n",
       "  </thead>\n",
       "  <tbody>\n",
       "    <tr>\n",
       "      <th>0</th>\n",
       "      <td>0307141985</td>\n",
       "      <td>[14, 15]</td>\n",
       "      <td>5</td>\n",
       "      <td>I don't know who owns the rights to this wonde...</td>\n",
       "      <td>10 6, 2005</td>\n",
       "      <td>A3IEV6R2B7VW5Z</td>\n",
       "      <td>J. Anderson</td>\n",
       "      <td>LISTEN TO THE PUBLIC!!!</td>\n",
       "      <td>1128556800</td>\n",
       "    </tr>\n",
       "    <tr>\n",
       "      <th>1</th>\n",
       "      <td>0307141985</td>\n",
       "      <td>[2, 2]</td>\n",
       "      <td>4</td>\n",
       "      <td>Thanksgiving is devoid of icons to make it a f...</td>\n",
       "      <td>11 23, 2011</td>\n",
       "      <td>A2H3ISQ4QB95XN</td>\n",
       "      <td>Joseph Brando</td>\n",
       "      <td>Rankin/Bass Does Thanksgiving!!</td>\n",
       "      <td>1322006400</td>\n",
       "    </tr>\n",
       "    <tr>\n",
       "      <th>2</th>\n",
       "      <td>0307141985</td>\n",
       "      <td>[38, 38]</td>\n",
       "      <td>5</td>\n",
       "      <td>This is a Thanksgiving tale that begins with t...</td>\n",
       "      <td>07 14, 2003</td>\n",
       "      <td>A6GMEO3VRY51S</td>\n",
       "      <td>microjoe</td>\n",
       "      <td>Thanksgiving Holiday fun from Rankin/Bass</td>\n",
       "      <td>1058140800</td>\n",
       "    </tr>\n",
       "    <tr>\n",
       "      <th>3</th>\n",
       "      <td>0307141985</td>\n",
       "      <td>[15, 16]</td>\n",
       "      <td>5</td>\n",
       "      <td>This is the BEST THANKSGIVING special around.....</td>\n",
       "      <td>11 6, 2003</td>\n",
       "      <td>A3E102F6LPUF1J</td>\n",
       "      <td>Richard J. Goldschmidt \"Rick Goldschmidt\"</td>\n",
       "      <td>BEST THANKSGIVING special out there!</td>\n",
       "      <td>1068076800</td>\n",
       "    </tr>\n",
       "    <tr>\n",
       "      <th>4</th>\n",
       "      <td>0307141985</td>\n",
       "      <td>[11, 12]</td>\n",
       "      <td>5</td>\n",
       "      <td>It's been a number of years since I've seen Mo...</td>\n",
       "      <td>03 1, 2006</td>\n",
       "      <td>A2JP0URFHXP6DO</td>\n",
       "      <td>Tim Janson</td>\n",
       "      <td>A THANKSGIVING TRADITION</td>\n",
       "      <td>1141171200</td>\n",
       "    </tr>\n",
       "  </tbody>\n",
       "</table>\n",
       "</div>"
      ],
      "text/plain": [
       "         asin   helpful  overall  \\\n",
       "0  0307141985  [14, 15]        5   \n",
       "1  0307141985    [2, 2]        4   \n",
       "2  0307141985  [38, 38]        5   \n",
       "3  0307141985  [15, 16]        5   \n",
       "4  0307141985  [11, 12]        5   \n",
       "\n",
       "                                          reviewText   reviewTime  \\\n",
       "0  I don't know who owns the rights to this wonde...   10 6, 2005   \n",
       "1  Thanksgiving is devoid of icons to make it a f...  11 23, 2011   \n",
       "2  This is a Thanksgiving tale that begins with t...  07 14, 2003   \n",
       "3  This is the BEST THANKSGIVING special around.....   11 6, 2003   \n",
       "4  It's been a number of years since I've seen Mo...   03 1, 2006   \n",
       "\n",
       "       reviewerID                               reviewerName  \\\n",
       "0  A3IEV6R2B7VW5Z                                J. Anderson   \n",
       "1  A2H3ISQ4QB95XN                              Joseph Brando   \n",
       "2   A6GMEO3VRY51S                                   microjoe   \n",
       "3  A3E102F6LPUF1J  Richard J. Goldschmidt \"Rick Goldschmidt\"   \n",
       "4  A2JP0URFHXP6DO                                 Tim Janson   \n",
       "\n",
       "                                     summary  unixReviewTime  \n",
       "0                    LISTEN TO THE PUBLIC!!!      1128556800  \n",
       "1            Rankin/Bass Does Thanksgiving!!      1322006400  \n",
       "2  Thanksgiving Holiday fun from Rankin/Bass      1058140800  \n",
       "3       BEST THANKSGIVING special out there!      1068076800  \n",
       "4                   A THANKSGIVING TRADITION      1141171200  "
      ]
     },
     "execution_count": 4,
     "metadata": {},
     "output_type": "execute_result"
    }
   ],
   "source": [
    "amazon.head()"
   ]
  },
  {
   "cell_type": "code",
   "execution_count": 20,
   "metadata": {},
   "outputs": [
    {
     "name": "stdout",
     "output_type": "stream",
     "text": [
      "<class 'pandas.core.frame.DataFrame'>\n",
      "Int64Index: 1097592 entries, 0 to 1097591\n",
      "Data columns (total 9 columns):\n",
      "asin              1097592 non-null object\n",
      "helpful           1097592 non-null object\n",
      "overall           1097592 non-null int64\n",
      "reviewText        1097592 non-null object\n",
      "reviewTime        1097592 non-null object\n",
      "reviewerID        1097592 non-null object\n",
      "reviewerName      1094651 non-null object\n",
      "summary           1097592 non-null object\n",
      "unixReviewTime    1097592 non-null int64\n",
      "dtypes: int64(2), object(7)\n",
      "memory usage: 83.7+ MB\n"
     ]
    }
   ],
   "source": [
    "amazon.info()"
   ]
  },
  {
   "cell_type": "code",
   "execution_count": 7,
   "metadata": {},
   "outputs": [
    {
     "data": {
      "text/plain": [
       "<matplotlib.axes._subplots.AxesSubplot at 0x1a11a019e8>"
      ]
     },
     "execution_count": 7,
     "metadata": {},
     "output_type": "execute_result"
    },
    {
     "data": {
      "image/png": "[encoded data removed]",
      "text/plain": [
       "<matplotlib.figure.Figure at 0x1a119fd748>"
      ]
     },
     "metadata": {},
     "output_type": "display_data"
    }
   ],
   "source": [
    "x = amazon['overall']\n",
    "plt.title('Boxplot of Overall Ratings')\n",
    "sns.boxplot(x)"
   ]
  },
  {
   "cell_type": "code",
   "execution_count": 9,
   "metadata": {},
   "outputs": [],
   "source": [
    "lessthan_2 = amazon[(amazon['overall'] < 2)]"
   ]
  },
  {
   "cell_type": "code",
   "execution_count": 10,
   "metadata": {},
   "outputs": [
    {
     "data": {
      "text/plain": [
       "46195"
      ]
     },
     "execution_count": 10,
     "metadata": {},
     "output_type": "execute_result"
    }
   ],
   "source": [
    "lessthan_2.shape[0]"
   ]
  },
  {
   "cell_type": "code",
   "execution_count": 16,
   "metadata": {},
   "outputs": [
    {
     "data": {
      "text/html": [
       "<div>\n",
       "<style>\n",
       "    .dataframe thead tr:only-child th {\n",
       "        text-align: right;\n",
       "    }\n",
       "\n",
       "    .dataframe thead th {\n",
       "        text-align: left;\n",
       "    }\n",
       "\n",
       "    .dataframe tbody tr th {\n",
       "        vertical-align: top;\n",
       "    }\n",
       "</style>\n",
       "<table border=\"1\" class=\"dataframe\">\n",
       "  <thead>\n",
       "    <tr style=\"text-align: right;\">\n",
       "      <th></th>\n",
       "      <th>asin</th>\n",
       "      <th>helpful</th>\n",
       "      <th>overall</th>\n",
       "      <th>reviewText</th>\n",
       "      <th>reviewTime</th>\n",
       "      <th>reviewerID</th>\n",
       "      <th>reviewerName</th>\n",
       "      <th>summary</th>\n",
       "      <th>unixReviewTime</th>\n",
       "    </tr>\n",
       "  </thead>\n",
       "  <tbody>\n",
       "    <tr>\n",
       "      <th>10</th>\n",
       "      <td>073890015X</td>\n",
       "      <td>[2, 2]</td>\n",
       "      <td>1</td>\n",
       "      <td>This would be the perfect event to put on DVD....</td>\n",
       "      <td>10 21, 1999</td>\n",
       "      <td>A1THF19PO0LXRD</td>\n",
       "      <td>James Marsh</td>\n",
       "      <td>Where's the DVD???</td>\n",
       "      <td>940464000</td>\n",
       "    </tr>\n",
       "    <tr>\n",
       "      <th>33</th>\n",
       "      <td>0738900672</td>\n",
       "      <td>[6, 31]</td>\n",
       "      <td>1</td>\n",
       "      <td>I might get ripped for this review, but i hone...</td>\n",
       "      <td>07 27, 2004</td>\n",
       "      <td>A110L6QITPVJTP</td>\n",
       "      <td>B.Huss</td>\n",
       "      <td>Can't see the hype</td>\n",
       "      <td>1090886400</td>\n",
       "    </tr>\n",
       "    <tr>\n",
       "      <th>98</th>\n",
       "      <td>0760135002</td>\n",
       "      <td>[1, 5]</td>\n",
       "      <td>1</td>\n",
       "      <td>Whatever it Takes is my pick for the worst tee...</td>\n",
       "      <td>09 24, 2000</td>\n",
       "      <td>A379BEI7Z151X7</td>\n",
       "      <td>dan</td>\n",
       "      <td>lousy</td>\n",
       "      <td>969753600</td>\n",
       "    </tr>\n",
       "    <tr>\n",
       "      <th>104</th>\n",
       "      <td>0760135002</td>\n",
       "      <td>[1, 3]</td>\n",
       "      <td>1</td>\n",
       "      <td>This is truly one of the worst movies I have e...</td>\n",
       "      <td>11 22, 2000</td>\n",
       "      <td>A1935MTY2YEK5X</td>\n",
       "      <td>JT</td>\n",
       "      <td>Horrible!</td>\n",
       "      <td>974851200</td>\n",
       "    </tr>\n",
       "    <tr>\n",
       "      <th>137</th>\n",
       "      <td>076783822X</td>\n",
       "      <td>[2, 18]</td>\n",
       "      <td>1</td>\n",
       "      <td>I was hoping this would be a decent video abou...</td>\n",
       "      <td>12 2, 2002</td>\n",
       "      <td>A1E9N5FK21NDTD</td>\n",
       "      <td>APIMom1999 \"wolfsky\"</td>\n",
       "      <td>Loose the stick dancers</td>\n",
       "      <td>1038787200</td>\n",
       "    </tr>\n",
       "  </tbody>\n",
       "</table>\n",
       "</div>"
      ],
      "text/plain": [
       "           asin  helpful  overall  \\\n",
       "10   073890015X   [2, 2]        1   \n",
       "33   0738900672  [6, 31]        1   \n",
       "98   0760135002   [1, 5]        1   \n",
       "104  0760135002   [1, 3]        1   \n",
       "137  076783822X  [2, 18]        1   \n",
       "\n",
       "                                            reviewText   reviewTime  \\\n",
       "10   This would be the perfect event to put on DVD....  10 21, 1999   \n",
       "33   I might get ripped for this review, but i hone...  07 27, 2004   \n",
       "98   Whatever it Takes is my pick for the worst tee...  09 24, 2000   \n",
       "104  This is truly one of the worst movies I have e...  11 22, 2000   \n",
       "137  I was hoping this would be a decent video abou...   12 2, 2002   \n",
       "\n",
       "         reviewerID          reviewerName                  summary  \\\n",
       "10   A1THF19PO0LXRD           James Marsh       Where's the DVD???   \n",
       "33   A110L6QITPVJTP                B.Huss       Can't see the hype   \n",
       "98   A379BEI7Z151X7                   dan                    lousy   \n",
       "104  A1935MTY2YEK5X                    JT                Horrible!   \n",
       "137  A1E9N5FK21NDTD  APIMom1999 \"wolfsky\"  Loose the stick dancers   \n",
       "\n",
       "     unixReviewTime  \n",
       "10        940464000  \n",
       "33       1090886400  \n",
       "98        969753600  \n",
       "104       974851200  \n",
       "137      1038787200  "
      ]
     },
     "execution_count": 16,
     "metadata": {},
     "output_type": "execute_result"
    }
   ],
   "source": [
    "lessthan_2.head()"
   ]
  },
  {
   "cell_type": "code",
   "execution_count": 13,
   "metadata": {
    "collapsed": true
   },
   "outputs": [],
   "source": [
    "word_list = []"
   ]
  },
  {
   "cell_type": "code",
   "execution_count": 14,
   "metadata": {},
   "outputs": [],
   "source": [
    "for index, row in lessthan_2.iterrows():\n",
    "    message = row['reviewText']\n",
    "    r = re.compile(r'[{}]'.format(punctuation))\n",
    "    new_strs = r.sub(' ', message)\n",
    "    for word in new_strs.split():\n",
    "        word_list.append(word)"
   ]
  },
  {
   "cell_type": "code",
   "execution_count": 17,
   "metadata": {
    "collapsed": true
   },
   "outputs": [],
   "source": [
    "word_dict = Counter(word_list)"
   ]
  },
  {
   "cell_type": "code",
   "execution_count": 32,
   "metadata": {
    "collapsed": true
   },
   "outputs": [],
   "source": [
    "keywords = ['but', 'not', 'off', 'back', 'never', 'nothing', 'worst', 'little', \n",
    "            'boring', 'trying', 'crap', 'horrible', 'waste', 'terrible', 'awful']"
   ]
  },
  {
   "cell_type": "code",
   "execution_count": 25,
   "metadata": {
    "collapsed": true
   },
   "outputs": [],
   "source": [
    "sentiment_cat = []"
   ]
  },
  {
   "cell_type": "code",
   "execution_count": 26,
   "metadata": {
    "collapsed": true
   },
   "outputs": [],
   "source": [
    "for i in range(0, 1097592):\n",
    "    if amazon.loc[i, 'overall'] < 2.0:\n",
    "        sentiment_cat.append(1)\n",
    "    else:\n",
    "        sentiment_cat.append(0)"
   ]
  },
  {
   "cell_type": "code",
   "execution_count": 29,
   "metadata": {},
   "outputs": [],
   "source": [
    "amazon['sentiment_cat'] = sentiment_cat"
   ]
  },
  {
   "cell_type": "code",
   "execution_count": 34,
   "metadata": {},
   "outputs": [],
   "source": [
    "for key in keywords:\n",
    "    # Note that we add spaces around the key so that we're getting the word,\n",
    "    # not just pattern matching.\n",
    "    amazon[str(key)] = amazon.reviewText.str.contains(\n",
    "        ' ' + str(key) + ' ',\n",
    "        case=False\n",
    "    )"
   ]
  },
  {
   "cell_type": "code",
   "execution_count": 35,
   "metadata": {},
   "outputs": [
    {
     "data": {
      "text/plain": [
       "<matplotlib.axes._subplots.AxesSubplot at 0x1b011e2128>"
      ]
     },
     "execution_count": 35,
     "metadata": {},
     "output_type": "execute_result"
    },
    {
     "data": {
      "image/png": "[encoded data removed]",
      "text/plain": [
       "<matplotlib.figure.Figure at 0x1b005d6e10>"
      ]
     },
     "metadata": {},
     "output_type": "display_data"
    }
   ],
   "source": [
    "sns.heatmap(amazon.corr())"
   ]
  },
  {
   "cell_type": "markdown",
   "metadata": {},
   "source": [
    "### Naive Bayes Model ###\n",
    "At the initial look of the model, it looks like the model is performing pretty well with an accuracy score of 95%.  This accuracy also holds when we split the data into training and test.  The score also holds when we do a cross-validation with 10 folds.  But when we look at the sensitivity and specificity it doesn't look so good.  The model does not perform well in being able to identify which ones have a score of less than 2.0.  The model has a very nice specificity.  But if the model just predicted that the review is not less than 2.0 than it would be 95% accurate.  The sensitivity is the best indicator of how well the model performed and it didn't perform too well.  "
   ]
  },
  {
   "cell_type": "code",
   "execution_count": 36,
   "metadata": {
    "collapsed": true
   },
   "outputs": [],
   "source": [
    "data = amazon[keywords]\n",
    "target = amazon['sentiment_cat']"
   ]
  },
  {
   "cell_type": "code",
   "execution_count": 37,
   "metadata": {},
   "outputs": [
    {
     "name": "stdout",
     "output_type": "stream",
     "text": [
      "Number of mislabeled points out of a total 1097592 points : 47084\n"
     ]
    }
   ],
   "source": [
    "# Our data is binary / boolean, so we're importing the Bernoulli classifier.\n",
    "from sklearn.naive_bayes import BernoulliNB\n",
    "\n",
    "# Instantiate our model and store it in a new variable.\n",
    "bnb = BernoulliNB()\n",
    "\n",
    "# Fit our model to the data.\n",
    "bnb.fit(data, target)\n",
    "\n",
    "# Classify, storing the result in a new variable.\n",
    "y_pred = bnb.predict(data)\n",
    "\n",
    "# Display our results.\n",
    "print(\"Number of mislabeled points out of a total {} points : {}\".format(\n",
    "    data.shape[0],\n",
    "    (target != y_pred).sum()\n",
    "))"
   ]
  },
  {
   "cell_type": "code",
   "execution_count": 38,
   "metadata": {},
   "outputs": [
    {
     "name": "stdout",
     "output_type": "stream",
     "text": [
      "With 20% Holdout: 0.957106218596\n",
      "Testing on Sample: 0.957102457015\n"
     ]
    }
   ],
   "source": [
    "from sklearn.model_selection import train_test_split\n",
    "\n",
    "# Use train_test_split to create the necessary training and test groups\n",
    "X_train, X_test, y_train, y_test = train_test_split(data, target, test_size=0.2, random_state=20)\n",
    "print('With 20% Holdout: ' + str(bnb.fit(X_train, y_train).score(X_test, y_test)))\n",
    "print('Testing on Sample: ' + str(bnb.fit(data, target).score(data, target)))"
   ]
  },
  {
   "cell_type": "code",
   "execution_count": 39,
   "metadata": {},
   "outputs": [
    {
     "data": {
      "text/plain": [
       "array([ 0.9578535 ,  0.95717019,  0.95769862,  0.95770773,  0.95740707,\n",
       "        0.95639538,  0.95585783,  0.9559121 ,  0.95662275,  0.95772518])"
      ]
     },
     "execution_count": 39,
     "metadata": {},
     "output_type": "execute_result"
    }
   ],
   "source": [
    "from sklearn.model_selection import cross_val_score\n",
    "cross_val_score(bnb, data, target, cv=10)"
   ]
  },
  {
   "cell_type": "code",
   "execution_count": 40,
   "metadata": {},
   "outputs": [
    {
     "data": {
      "text/plain": [
       "array([[1048298,    3099],\n",
       "       [  43985,    2210]])"
      ]
     },
     "execution_count": 40,
     "metadata": {},
     "output_type": "execute_result"
    }
   ],
   "source": [
    "from sklearn.metrics import confusion_matrix\n",
    "confusion_matrix(target, y_pred)"
   ]
  },
  {
   "cell_type": "code",
   "execution_count": 41,
   "metadata": {},
   "outputs": [
    {
     "name": "stdout",
     "output_type": "stream",
     "text": [
      "Sensitivity is 0.41627425127142587\n",
      "Specificity is 0.9597311319502363\n"
     ]
    }
   ],
   "source": [
    "matrix = confusion_matrix(target, y_pred)\n",
    "print('Sensitivity is {}'.format(matrix[1,1]/(matrix[0,1]+matrix[1,1])))\n",
    "print('Specificity is {}'.format(matrix[0,0]/(matrix[0,0]+matrix[1,0])))"
   ]
  },
  {
   "cell_type": "code",
   "execution_count": 43,
   "metadata": {},
   "outputs": [
    {
     "data": {
      "text/plain": [
       "0.9579124118980459"
      ]
     },
     "execution_count": 43,
     "metadata": {},
     "output_type": "execute_result"
    }
   ],
   "source": [
    "1 - (lessthan_2.shape[0])/len(amazon) "
   ]
  },
  {
   "cell_type": "code",
   "execution_count": null,
   "metadata": {
    "collapsed": true
   },
   "outputs": [],
   "source": []
  }
 ],
 "metadata": {
  "kernelspec": {
   "display_name": "Python 3",
   "language": "python",
   "name": "python3"
  },
  "language_info": {
   "codemirror_mode": {
    "name": "ipython",
    "version": 3
   },
   "file_extension": ".py",
   "mimetype": "text/x-python",
   "name": "python",
   "nbconvert_exporter": "python",
   "pygments_lexer": "ipython3",
   "version": "3.6.2"
  }
 },
 "nbformat": 4,
 "nbformat_minor": 2
}
